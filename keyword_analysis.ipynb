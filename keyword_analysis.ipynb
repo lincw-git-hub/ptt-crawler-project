{
 "cells": [
  {
   "cell_type": "code",
   "execution_count": 7,
   "id": "abbe765e-0784-43b5-af05-a8ec85b1b721",
   "metadata": {},
   "outputs": [
    {
     "name": "stdout",
     "output_type": "stream",
     "text": [
      "📊 出現最多的 20 個詞（已過濾停用詞）：\n",
      "商演: 6\n",
      "班表: 5\n",
      "一日: 5\n",
      "店長: 5\n",
      "女孩: 3\n",
      "韓國: 3\n",
      "河智媛: 3\n",
      "網路: 2\n",
      "金渡: 2\n",
      "嘎琳: 2\n",
      "活動: 2\n",
      "女神: 2\n",
      "CT: 2\n",
      "球場: 2\n",
      "開播: 2\n",
      "一杯: 2\n",
      "李雅英: 2\n",
      "李多慧: 2\n",
      "自己: 2\n",
      "南珉貞: 2\n"
     ]
    }
   ],
   "source": [
    "import pandas as pd\n",
    "import jieba\n",
    "from collections import Counter\n",
    "\n",
    "# 讀資料\n",
    "df = pd.read_csv(\"data/cheergirls_articles_3pages.csv\")\n",
    "text = \" \".join(df[\"標題\"].dropna().astype(str))\n",
    "\n",
    "# jieba 斷詞\n",
    "words = jieba.cut(text)\n",
    "\n",
    "# 停用詞（擴充過）\n",
    "stopwords = {\n",
    "    \"公告\", \"閒聊\", \"板規\", \"置底\", \"黑特區\", \"商品交易\", \"公告區\",\n",
    "    \"請益\", \"問題\", \"討論\", \"分享\", \"新聞\", \"轉錄\", \"爆卦\", \"LIVE\", \"轉貼\", \"推文\", \"心得\",\n",
    "    \"因為\", \"所以\", \"如果\", \"可以\", \"還有\", \"真的\", \"目前\", \"現在\", \"暫時\", \"中斷\", \"行程\", \"拍片\",\n",
    "    \"大家\", \"一起\", \"今天\", \"昨天\", \"已經\", \"非常\", \"感謝\", \"希望\", \"正在\", \"影片\"\n",
    "}\n",
    "\n",
    "# 過濾\n",
    "filtered = [w for w in words if len(w.strip()) > 1 and w not in stopwords]\n",
    "\n",
    "# 統計詞頻\n",
    "counter = Counter(filtered)\n",
    "\n",
    "# 顯示結果\n",
    "print(\"📊 出現最多的 20 個詞（已過濾停用詞）：\")\n",
    "for word, freq in counter.most_common(20):\n",
    "    print(f\"{word}: {freq}\")\n"
   ]
  },
  {
   "cell_type": "code",
   "execution_count": null,
   "id": "fe9abf5a-671f-47ae-8b5a-51b60d6e37d1",
   "metadata": {},
   "outputs": [],
   "source": []
  }
 ],
 "metadata": {
  "kernelspec": {
   "display_name": "Python [conda env:base] *",
   "language": "python",
   "name": "conda-base-py"
  },
  "language_info": {
   "codemirror_mode": {
    "name": "ipython",
    "version": 3
   },
   "file_extension": ".py",
   "mimetype": "text/x-python",
   "name": "python",
   "nbconvert_exporter": "python",
   "pygments_lexer": "ipython3",
   "version": "3.11.5"
  }
 },
 "nbformat": 4,
 "nbformat_minor": 5
}
