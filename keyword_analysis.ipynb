{
 "cells": [
  {
   "cell_type": "code",
   "execution_count": 1,
   "id": "52e2ab9a-ed17-4a38-a1dd-4b66d5d3f5a0",
   "metadata": {},
   "outputs": [
    {
     "name": "stderr",
     "output_type": "stream",
     "text": [
      "Building prefix dict from the default dictionary ...\n",
      "Loading model from cache /var/folders/tb/6r3d82gj60l_kdzpjp4_szdm0000gn/T/jieba.cache\n",
      "Loading model cost 0.314 seconds.\n",
      "Prefix dict has been built successfully.\n"
     ]
    },
    {
     "name": "stdout",
     "output_type": "stream",
     "text": [
      "📊 出現最多的 20 個詞：\n",
      "公告: 12\n",
      "閒聊: 6\n",
      "廉世彬: 3\n",
      "因為: 3\n",
      "健康: 3\n",
      "問題: 3\n",
      "暫時: 3\n",
      "中斷: 3\n",
      "行程: 3\n",
      "新聞: 3\n",
      "CT: 3\n",
      "網翻: 3\n",
      "球場: 3\n",
      "拍片: 3\n",
      "分享: 3\n",
      "threads: 3\n",
      "台鋼長: 3\n",
      "公主: 3\n",
      "Jenny: 3\n",
      "影片: 3\n"
     ]
    }
   ],
   "source": [
    "# 匯入套件\n",
    "import pandas as pd\n",
    "import jieba\n",
    "from collections import Counter\n",
    "\n",
    "# 讀取啦啦隊文章資料\n",
    "df = pd.read_csv(\"data/cheergirls_articles_3pages.csv\")\n",
    "\n",
    "# 合併所有標題成一個文字\n",
    "text = \" \".join(df[\"標題\"].dropna().astype(str))\n",
    "\n",
    "# 使用 jieba 斷詞\n",
    "words = jieba.cut(text)\n",
    "filtered = [w for w in words if len(w.strip()) > 1]  # 去除單字與空白\n",
    "\n",
    "# 計算詞頻\n",
    "counter = Counter(filtered)\n",
    "\n",
    "# 印出前 20 名高頻詞\n",
    "print(\"📊 出現最多的 20 個詞：\")\n",
    "for word, freq in counter.most_common(20):\n",
    "    print(f\"{word}: {freq}\")\n"
   ]
  },
  {
   "cell_type": "code",
   "execution_count": null,
   "id": "1990e276-1564-4490-b420-c600973b01f9",
   "metadata": {},
   "outputs": [],
   "source": []
  }
 ],
 "metadata": {
  "kernelspec": {
   "display_name": "Python [conda env:base] *",
   "language": "python",
   "name": "conda-base-py"
  },
  "language_info": {
   "codemirror_mode": {
    "name": "ipython",
    "version": 3
   },
   "file_extension": ".py",
   "mimetype": "text/x-python",
   "name": "python",
   "nbconvert_exporter": "python",
   "pygments_lexer": "ipython3",
   "version": "3.11.5"
  }
 },
 "nbformat": 4,
 "nbformat_minor": 5
}
