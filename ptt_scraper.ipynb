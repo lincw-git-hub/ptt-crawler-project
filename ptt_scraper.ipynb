{
 "cells": [
  {
   "cell_type": "code",
   "execution_count": 53,
   "id": "c8073cd1-b052-4aea-975d-c70ab13068ff",
   "metadata": {},
   "outputs": [],
   "source": [
    "import requests\n",
    "from bs4 import BeautifulSoup\n",
    "import pandas as pd\n",
    "import os"
   ]
  },
  {
   "cell_type": "code",
   "execution_count": 54,
   "id": "dd88cf7b-8d58-46eb-82eb-22fd03494bd8",
   "metadata": {},
   "outputs": [],
   "source": [
    "# 建立資料夾\n",
    "os.makedirs(\"data\", exist_ok=True)"
   ]
  },
  {
   "cell_type": "code",
   "execution_count": 55,
   "id": "e2c03ec6-5ea6-46c8-afc0-9af0c809e9fe",
   "metadata": {},
   "outputs": [],
   "source": [
    "# 基本設定\n",
    "base_url = \"https://www.ptt.cc\"\n",
    "board = \"CheerGirlsTW\"\n",
    "start_url = f\"{base_url}/bbs/{board}/index.html\"\n",
    "page_count = 3  # 要爬的頁數"
   ]
  },
  {
   "cell_type": "code",
   "execution_count": 56,
   "id": "e807f69c-2113-4e12-8582-c453f679c07d",
   "metadata": {},
   "outputs": [
    {
     "data": {
      "text/plain": [
       "Cookie(version=0, name='over18', value='1', port=None, port_specified=False, domain='', domain_specified=False, domain_initial_dot=False, path='/', path_specified=True, secure=False, expires=None, discard=True, comment=None, comment_url=None, rest={'HttpOnly': None}, rfc2109=False)"
      ]
     },
     "execution_count": 56,
     "metadata": {},
     "output_type": "execute_result"
    }
   ],
   "source": [
    "# 繞過年齡驗證\n",
    "session = requests.Session()\n",
    "session.cookies.set(\"over18\", \"1\")"
   ]
  },
  {
   "cell_type": "code",
   "execution_count": 57,
   "id": "7fafdd6f-86f2-4ac4-9ae2-fb05cd5eeb82",
   "metadata": {},
   "outputs": [],
   "source": [
    "def get_articles_from_page(url):\n",
    "    res = session.get(url)\n",
    "    soup = BeautifulSoup(res.text, \"html.parser\")\n",
    "    entries = soup.select(\"div.r-ent\")\n",
    "    page_articles = []\n",
    "\n",
    "    for e in entries:\n",
    "        try:\n",
    "            push = e.select_one(\"div.nrec\").text.strip()\n",
    "            title_tag = e.select_one(\"div.title a\")\n",
    "            title = title_tag.text.strip()\n",
    "            link = base_url + title_tag[\"href\"]\n",
    "            author = e.select_one(\"div.author\").text.strip()\n",
    "            page_articles.append([title, author, push, link])\n",
    "        except:\n",
    "            continue  # 跳過已被刪除的文章\n",
    "\n",
    "    return page_articles, soup"
   ]
  },
  {
   "cell_type": "code",
   "execution_count": 58,
   "id": "5dbeef55-3493-42d1-8179-9266169f9766",
   "metadata": {},
   "outputs": [
    {
     "name": "stdout",
     "output_type": "stream",
     "text": [
      "🔍 正在爬第 1 頁：https://www.ptt.cc/bbs/CheerGirlsTW/index.html\n",
      "🔍 正在爬第 2 頁：https://www.ptt.cc/bbs/CheerGirlsTW/index.html\n",
      "🔍 正在爬第 3 頁：https://www.ptt.cc/bbs/CheerGirlsTW/index.html\n"
     ]
    }
   ],
   "source": [
    "# 開始爬取\n",
    "all_articles = []\n",
    "current_url = start_url\n",
    "\n",
    "for i in range(page_count):\n",
    "    print(f\"🔍 正在爬第 {i+1} 頁：{current_url}\")\n",
    "    articles, soup = get_articles_from_page(current_url)\n",
    "    all_articles.extend(articles)\n",
    "\n",
    "    # 找到上一頁連結\n",
    "    prev_link = soup.select(\"div.btn-group-paging a\")[-1][\"href\"]\n",
    "    current_url = base_url + prev_link"
   ]
  },
  {
   "cell_type": "code",
   "execution_count": 59,
   "id": "fe93c7ee-d362-4df4-bdb5-6009f0d63c88",
   "metadata": {},
   "outputs": [],
   "source": [
    "# 儲存 CSV\n",
    "df = pd.DataFrame(all_articles, columns=[\"標題\", \"作者\", \"推文\", \"連結\"])\n",
    "df.to_csv(\"data/cheergirls_articles_3pages.csv\", index=False, encoding=\"utf-8-sig\")"
   ]
  },
  {
   "cell_type": "code",
   "execution_count": 60,
   "id": "75cbdba0-7cd4-4027-a9d6-0f34426e6787",
   "metadata": {},
   "outputs": [
    {
     "name": "stdout",
     "output_type": "stream",
     "text": [
      "✅ 完成！共爬到 27 篇文章，已儲存到 data/cheergirls_articles_3pages.csv\n"
     ]
    }
   ],
   "source": [
    "print(\"✅ 完成！共爬到\", len(df), \"篇文章，已儲存到 data/cheergirls_articles_3pages.csv\")"
   ]
  },
  {
   "cell_type": "code",
   "execution_count": null,
   "id": "e0ea405e-2579-4156-a49b-aa91efaddc30",
   "metadata": {},
   "outputs": [],
   "source": []
  }
 ],
 "metadata": {
  "kernelspec": {
   "display_name": "Python [conda env:base] *",
   "language": "python",
   "name": "conda-base-py"
  },
  "language_info": {
   "codemirror_mode": {
    "name": "ipython",
    "version": 3
   },
   "file_extension": ".py",
   "mimetype": "text/x-python",
   "name": "python",
   "nbconvert_exporter": "python",
   "pygments_lexer": "ipython3",
   "version": "3.11.5"
  }
 },
 "nbformat": 4,
 "nbformat_minor": 5
}
