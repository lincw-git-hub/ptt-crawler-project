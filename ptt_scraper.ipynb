{
 "cells": [
  {
   "cell_type": "code",
   "execution_count": 1,
   "id": "1047930a-1ad3-4087-ac39-4fb15cc544b3",
   "metadata": {},
   "outputs": [
    {
     "name": "stdout",
     "output_type": "stream",
     "text": [
      "🔍 正在爬第 1 頁：https://www.ptt.cc/bbs/CheerGirlsTW/index342.html\n",
      "🔍 正在爬第 2 頁：https://www.ptt.cc/bbs/CheerGirlsTW/index341.html\n",
      "🔍 正在爬第 3 頁：https://www.ptt.cc/bbs/CheerGirlsTW/index340.html\n",
      "✅ 完成！共爬到 48 篇文章，已儲存到 data/cheergirls_articles_3pages.csv\n"
     ]
    }
   ],
   "source": [
    "import requests\n",
    "from bs4 import BeautifulSoup\n",
    "import pandas as pd\n",
    "import os\n",
    "\n",
    "# 建立資料夾\n",
    "os.makedirs(\"data\", exist_ok=True)\n",
    "\n",
    "# 基本設定\n",
    "base_url = \"https://www.ptt.cc\"\n",
    "board = \"CheerGirlsTW\"\n",
    "page_count = 3  # 要爬的頁數\n",
    "\n",
    "# 繞過年齡驗證\n",
    "session = requests.Session()\n",
    "session.cookies.set(\"over18\", \"1\")\n",
    "\n",
    "# 找出看板的最新 index 頁碼\n",
    "def get_latest_index():\n",
    "    res = session.get(f\"{base_url}/bbs/{board}/index.html\")\n",
    "    soup = BeautifulSoup(res.text, \"html.parser\")\n",
    "    prev_link = soup.select(\"div.btn-group-paging a\")[1][\"href\"]  # 第二個按鈕是「‹ 上頁」\n",
    "    # 解析 index 數字，例如 \"/bbs/CheerGirlsTW/index1234.html\"\n",
    "    latest_index = int(prev_link.split(\"index\")[1].split(\".html\")[0]) + 1\n",
    "    return latest_index\n",
    "\n",
    "# 從單一頁面抓文章\n",
    "def get_articles_from_page(url):\n",
    "    res = session.get(url)\n",
    "    soup = BeautifulSoup(res.text, \"html.parser\")\n",
    "    entries = soup.select(\"div.r-ent\")\n",
    "    page_articles = []\n",
    "\n",
    "    for e in entries:\n",
    "        try:\n",
    "            push = e.select_one(\"div.nrec\").text.strip()\n",
    "            title_tag = e.select_one(\"div.title a\")\n",
    "            title = title_tag.text.strip()\n",
    "            link = base_url + title_tag[\"href\"]\n",
    "            author = e.select_one(\"div.author\").text.strip()\n",
    "            page_articles.append([title, author, push, link])\n",
    "        except:\n",
    "            continue  # 跳過已被刪除的文章\n",
    "\n",
    "    return page_articles\n",
    "\n",
    "# 取得最新頁碼\n",
    "latest_index = get_latest_index()\n",
    "\n",
    "# 開始爬取\n",
    "all_articles = []\n",
    "for i in range(page_count):\n",
    "    page_index = latest_index - i\n",
    "    page_url = f\"{base_url}/bbs/{board}/index{page_index}.html\"\n",
    "    print(f\"🔍 正在爬第 {i+1} 頁：{page_url}\")\n",
    "    articles = get_articles_from_page(page_url)\n",
    "    all_articles.extend(articles)\n",
    "\n",
    "# 儲存 CSV\n",
    "df = pd.DataFrame(all_articles, columns=[\"標題\", \"作者\", \"推文\", \"連結\"])\n",
    "df.to_csv(\"data/cheergirls_articles_3pages.csv\", index=False, encoding=\"utf-8-sig\")\n",
    "\n",
    "print(\"✅ 完成！共爬到\", len(df), \"篇文章，已儲存到 data/cheergirls_articles_3pages.csv\")\n"
   ]
  },
  {
   "cell_type": "code",
   "execution_count": null,
   "id": "54ffd662-8772-4639-b643-bee493e6c036",
   "metadata": {},
   "outputs": [],
   "source": []
  }
 ],
 "metadata": {
  "kernelspec": {
   "display_name": "Python [conda env:base] *",
   "language": "python",
   "name": "conda-base-py"
  },
  "language_info": {
   "codemirror_mode": {
    "name": "ipython",
    "version": 3
   },
   "file_extension": ".py",
   "mimetype": "text/x-python",
   "name": "python",
   "nbconvert_exporter": "python",
   "pygments_lexer": "ipython3",
   "version": "3.11.5"
  }
 },
 "nbformat": 4,
 "nbformat_minor": 5
}
